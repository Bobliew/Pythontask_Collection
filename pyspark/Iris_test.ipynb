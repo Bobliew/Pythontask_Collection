{
  "nbformat": 4,
  "nbformat_minor": 0,
  "metadata": {
    "colab": {
      "provenance": [],
      "collapsed_sections": []
    },
    "kernelspec": {
      "name": "python3",
      "display_name": "Python 3"
    },
    "language_info": {
      "name": "python"
    }
  },
  "cells": [
    {
      "cell_type": "code",
      "source": [
        "#for google colab\n",
        "from google.colab import drive\n",
        "drive.mount('/content/drive')\n",
        "!apt-get install openjdk-8-jdk-headless -qq > /dev/null\n",
        "!tar xf spark-3.1.2-bin-hadoop2.7.tgz\n",
        "!pip install -q findspark\n",
        "!pip install pyspark\n",
        "import os\n",
        "!mkdir -p drive"
      ],
      "metadata": {
        "colab": {
          "base_uri": "https://localhost:8080/"
        },
        "id": "GEjNFj1YBCox",
        "outputId": "e20da6a9-62a1-49c2-fa58-d95abb4698a0"
      },
      "execution_count": 1,
      "outputs": [
        {
          "output_type": "stream",
          "name": "stdout",
          "text": [
            "Mounted at /content/drive\n",
            "tar: spark-3.1.2-bin-hadoop2.7.tgz: Cannot open: No such file or directory\n",
            "tar: Error is not recoverable: exiting now\n",
            "Looking in indexes: https://pypi.org/simple, https://us-python.pkg.dev/colab-wheels/public/simple/\n",
            "Collecting pyspark\n",
            "  Downloading pyspark-3.3.0.tar.gz (281.3 MB)\n",
            "\u001b[K     |████████████████████████████████| 281.3 MB 45 kB/s \n",
            "\u001b[?25hCollecting py4j==0.10.9.5\n",
            "  Downloading py4j-0.10.9.5-py2.py3-none-any.whl (199 kB)\n",
            "\u001b[K     |████████████████████████████████| 199 kB 58.9 MB/s \n",
            "\u001b[?25hBuilding wheels for collected packages: pyspark\n",
            "  Building wheel for pyspark (setup.py) ... \u001b[?25l\u001b[?25hdone\n",
            "  Created wheel for pyspark: filename=pyspark-3.3.0-py2.py3-none-any.whl size=281764026 sha256=99e055bcdbecf84fc79011328bac7237d1745394be1a012ba007902457c3f929\n",
            "  Stored in directory: /root/.cache/pip/wheels/7a/8e/1b/f73a52650d2e5f337708d9f6a1750d451a7349a867f928b885\n",
            "Successfully built pyspark\n",
            "Installing collected packages: py4j, pyspark\n",
            "Successfully installed py4j-0.10.9.5 pyspark-3.3.0\n"
          ]
        }
      ]
    },
    {
      "cell_type": "code",
      "execution_count": 10,
      "metadata": {
        "id": "f4whhVpMATPl"
      },
      "outputs": [],
      "source": [
        "# import some libraries\n",
        "import pandas as pd\n",
        "import numpy as np\n",
        "import findspark\n",
        "findspark.init()\n",
        "import pyspark\n",
        "import os\n",
        "import urllib\n",
        "import sys\n",
        "from pyspark import SparkContext\n",
        "from pyspark.sql import SQLContext\n",
        "from pyspark.sql import SparkSession\n",
        "from pyspark.sql.functions import *\n",
        "from pyspark.ml.classification import *\n",
        "from pyspark.ml.evaluation import *\n",
        "from pyspark.ml.feature import *"
      ]
    },
    {
      "cell_type": "code",
      "source": [
        "%matplotlib inline\n",
        "import matplotlib.pyplot as plt\n",
        "import numpy as np"
      ],
      "metadata": {
        "id": "igKdAvt0LNHj"
      },
      "execution_count": 31,
      "outputs": []
    },
    {
      "cell_type": "code",
      "source": [
        "sc = pyspark.sql.SparkSession.builder.appName('Test_for_IRIS').getOrCreate()"
      ],
      "metadata": {
        "id": "LvjsmAKPAdSN"
      },
      "execution_count": 5,
      "outputs": []
    },
    {
      "cell_type": "code",
      "source": [
        "csv_url = 'https://archive.ics.uci.edu/ml/machine-learning-databases/iris/iris.data'\n",
        "col_names = ['Sepal_Length','Sepal_Width','Petal_Length','Petal_Width','Class']\n",
        "iris =  pd.read_csv(csv_url, names = col_names)"
      ],
      "metadata": {
        "id": "LWcXec0KCjB9"
      },
      "execution_count": 6,
      "outputs": []
    },
    {
      "cell_type": "code",
      "source": [
        "#Load data from Iris.\n",
        "df = sc.createDataFrame(iris)\n",
        "df.show()"
      ],
      "metadata": {
        "colab": {
          "base_uri": "https://localhost:8080/"
        },
        "id": "ACTIHwYbCPMh",
        "outputId": "0775a63a-f1ab-4342-84f5-07d0a266b376"
      },
      "execution_count": 8,
      "outputs": [
        {
          "output_type": "stream",
          "name": "stdout",
          "text": [
            "+------------+-----------+------------+-----------+-----------+\n",
            "|Sepal_Length|Sepal_Width|Petal_Length|Petal_Width|      Class|\n",
            "+------------+-----------+------------+-----------+-----------+\n",
            "|         5.1|        3.5|         1.4|        0.2|Iris-setosa|\n",
            "|         4.9|        3.0|         1.4|        0.2|Iris-setosa|\n",
            "|         4.7|        3.2|         1.3|        0.2|Iris-setosa|\n",
            "|         4.6|        3.1|         1.5|        0.2|Iris-setosa|\n",
            "|         5.0|        3.6|         1.4|        0.2|Iris-setosa|\n",
            "|         5.4|        3.9|         1.7|        0.4|Iris-setosa|\n",
            "|         4.6|        3.4|         1.4|        0.3|Iris-setosa|\n",
            "|         5.0|        3.4|         1.5|        0.2|Iris-setosa|\n",
            "|         4.4|        2.9|         1.4|        0.2|Iris-setosa|\n",
            "|         4.9|        3.1|         1.5|        0.1|Iris-setosa|\n",
            "|         5.4|        3.7|         1.5|        0.2|Iris-setosa|\n",
            "|         4.8|        3.4|         1.6|        0.2|Iris-setosa|\n",
            "|         4.8|        3.0|         1.4|        0.1|Iris-setosa|\n",
            "|         4.3|        3.0|         1.1|        0.1|Iris-setosa|\n",
            "|         5.8|        4.0|         1.2|        0.2|Iris-setosa|\n",
            "|         5.7|        4.4|         1.5|        0.4|Iris-setosa|\n",
            "|         5.4|        3.9|         1.3|        0.4|Iris-setosa|\n",
            "|         5.1|        3.5|         1.4|        0.3|Iris-setosa|\n",
            "|         5.7|        3.8|         1.7|        0.3|Iris-setosa|\n",
            "|         5.1|        3.8|         1.5|        0.3|Iris-setosa|\n",
            "+------------+-----------+------------+-----------+-----------+\n",
            "only showing top 20 rows\n",
            "\n"
          ]
        }
      ]
    },
    {
      "cell_type": "code",
      "source": [
        "feature_cols = df.columns[:-1]\n",
        "#feature enginering\n",
        "assembler = pyspark.ml.feature.VectorAssembler(inputCols=feature_cols, outputCol='features')\n",
        "df = assembler.transform(df)"
      ],
      "metadata": {
        "id": "9Qk8C94ADYkv"
      },
      "execution_count": 11,
      "outputs": []
    },
    {
      "cell_type": "code",
      "source": [
        "df.show()"
      ],
      "metadata": {
        "colab": {
          "base_uri": "https://localhost:8080/"
        },
        "id": "1tnDDmQcEIb-",
        "outputId": "48ebc9bd-9359-412f-bb76-82e7124c7796"
      },
      "execution_count": 13,
      "outputs": [
        {
          "output_type": "stream",
          "name": "stdout",
          "text": [
            "+------------+-----------+------------+-----------+-----------+-----------------+\n",
            "|Sepal_Length|Sepal_Width|Petal_Length|Petal_Width|      Class|         features|\n",
            "+------------+-----------+------------+-----------+-----------+-----------------+\n",
            "|         5.1|        3.5|         1.4|        0.2|Iris-setosa|[5.1,3.5,1.4,0.2]|\n",
            "|         4.9|        3.0|         1.4|        0.2|Iris-setosa|[4.9,3.0,1.4,0.2]|\n",
            "|         4.7|        3.2|         1.3|        0.2|Iris-setosa|[4.7,3.2,1.3,0.2]|\n",
            "|         4.6|        3.1|         1.5|        0.2|Iris-setosa|[4.6,3.1,1.5,0.2]|\n",
            "|         5.0|        3.6|         1.4|        0.2|Iris-setosa|[5.0,3.6,1.4,0.2]|\n",
            "|         5.4|        3.9|         1.7|        0.4|Iris-setosa|[5.4,3.9,1.7,0.4]|\n",
            "|         4.6|        3.4|         1.4|        0.3|Iris-setosa|[4.6,3.4,1.4,0.3]|\n",
            "|         5.0|        3.4|         1.5|        0.2|Iris-setosa|[5.0,3.4,1.5,0.2]|\n",
            "|         4.4|        2.9|         1.4|        0.2|Iris-setosa|[4.4,2.9,1.4,0.2]|\n",
            "|         4.9|        3.1|         1.5|        0.1|Iris-setosa|[4.9,3.1,1.5,0.1]|\n",
            "|         5.4|        3.7|         1.5|        0.2|Iris-setosa|[5.4,3.7,1.5,0.2]|\n",
            "|         4.8|        3.4|         1.6|        0.2|Iris-setosa|[4.8,3.4,1.6,0.2]|\n",
            "|         4.8|        3.0|         1.4|        0.1|Iris-setosa|[4.8,3.0,1.4,0.1]|\n",
            "|         4.3|        3.0|         1.1|        0.1|Iris-setosa|[4.3,3.0,1.1,0.1]|\n",
            "|         5.8|        4.0|         1.2|        0.2|Iris-setosa|[5.8,4.0,1.2,0.2]|\n",
            "|         5.7|        4.4|         1.5|        0.4|Iris-setosa|[5.7,4.4,1.5,0.4]|\n",
            "|         5.4|        3.9|         1.3|        0.4|Iris-setosa|[5.4,3.9,1.3,0.4]|\n",
            "|         5.1|        3.5|         1.4|        0.3|Iris-setosa|[5.1,3.5,1.4,0.3]|\n",
            "|         5.7|        3.8|         1.7|        0.3|Iris-setosa|[5.7,3.8,1.7,0.3]|\n",
            "|         5.1|        3.8|         1.5|        0.3|Iris-setosa|[5.1,3.8,1.5,0.3]|\n",
            "+------------+-----------+------------+-----------+-----------+-----------------+\n",
            "only showing top 20 rows\n",
            "\n"
          ]
        }
      ]
    },
    {
      "cell_type": "code",
      "source": [
        "df = df.select(['features','class'])\n",
        "label = pyspark.ml.feature.StringIndexer(inputCol = 'class', outputCol = 'label').fit(df)\n",
        "df = label.transform(df)\n",
        "df = df.select(['features', 'label'])\n",
        "df.show()"
      ],
      "metadata": {
        "colab": {
          "base_uri": "https://localhost:8080/"
        },
        "id": "fyUJIWnbEQwf",
        "outputId": "8786eb45-d45a-46f3-e130-23a61efa9307"
      },
      "execution_count": 14,
      "outputs": [
        {
          "output_type": "stream",
          "name": "stdout",
          "text": [
            "+-----------------+-----+\n",
            "|         features|label|\n",
            "+-----------------+-----+\n",
            "|[5.1,3.5,1.4,0.2]|  0.0|\n",
            "|[4.9,3.0,1.4,0.2]|  0.0|\n",
            "|[4.7,3.2,1.3,0.2]|  0.0|\n",
            "|[4.6,3.1,1.5,0.2]|  0.0|\n",
            "|[5.0,3.6,1.4,0.2]|  0.0|\n",
            "|[5.4,3.9,1.7,0.4]|  0.0|\n",
            "|[4.6,3.4,1.4,0.3]|  0.0|\n",
            "|[5.0,3.4,1.5,0.2]|  0.0|\n",
            "|[4.4,2.9,1.4,0.2]|  0.0|\n",
            "|[4.9,3.1,1.5,0.1]|  0.0|\n",
            "|[5.4,3.7,1.5,0.2]|  0.0|\n",
            "|[4.8,3.4,1.6,0.2]|  0.0|\n",
            "|[4.8,3.0,1.4,0.1]|  0.0|\n",
            "|[4.3,3.0,1.1,0.1]|  0.0|\n",
            "|[5.8,4.0,1.2,0.2]|  0.0|\n",
            "|[5.7,4.4,1.5,0.4]|  0.0|\n",
            "|[5.4,3.9,1.3,0.4]|  0.0|\n",
            "|[5.1,3.5,1.4,0.3]|  0.0|\n",
            "|[5.7,3.8,1.7,0.3]|  0.0|\n",
            "|[5.1,3.8,1.5,0.3]|  0.0|\n",
            "+-----------------+-----+\n",
            "only showing top 20 rows\n",
            "\n"
          ]
        }
      ]
    },
    {
      "cell_type": "code",
      "source": [
        "#knn\n",
        "#VectorAssembler之后collect的list没有办法直接应用在KNeighborsClassifier，需要reshape一下。\n",
        "from sklearn.neighbors import KNeighborsClassifier\n",
        "\n",
        "train, test = df.randomSplit([0.70, 0.30])\n",
        "features_train = train.select('features').collect()\n",
        "features_train = np.array(features_train).reshape(len(np.array(features_train)),-1)\n",
        "label_train = train.select('label').collect()\n",
        "neight = KNeighborsClassifier(n_neighbors = 5)\n",
        "neight.fit(features_train, label_train)"
      ],
      "metadata": {
        "colab": {
          "base_uri": "https://localhost:8080/"
        },
        "id": "1wqePyV7FSgw",
        "outputId": "5cac84f2-768c-45a7-b1d7-3c58172f4f88"
      },
      "execution_count": 26,
      "outputs": [
        {
          "output_type": "stream",
          "name": "stderr",
          "text": [
            "/usr/local/lib/python3.7/dist-packages/sklearn/neighbors/_classification.py:198: DataConversionWarning: A column-vector y was passed when a 1d array was expected. Please change the shape of y to (n_samples,), for example using ravel().\n",
            "  return self._fit(X, y)\n"
          ]
        },
        {
          "output_type": "execute_result",
          "data": {
            "text/plain": [
              "KNeighborsClassifier()"
            ]
          },
          "metadata": {},
          "execution_count": 26
        }
      ]
    },
    {
      "cell_type": "code",
      "source": [
        "features_test = test.select('features').collect()\n",
        "features_test = np.array(features_test).reshape(len(np.array(features_test)),-1)\n",
        "label_test = test.select('label').collect()"
      ],
      "metadata": {
        "id": "VO-QsDpuJfgD"
      },
      "execution_count": 27,
      "outputs": []
    },
    {
      "cell_type": "code",
      "source": [
        "neighbors = neight.kneighbors(features_test, return_distance = False)"
      ],
      "metadata": {
        "id": "2Yt5q0GLIuO2"
      },
      "execution_count": 32,
      "outputs": []
    },
    {
      "cell_type": "code",
      "source": [
        "from sklearn.metrics import accuracy_score\n",
        "accuracy_score(neight.predict(features_test),label_test)"
      ],
      "metadata": {
        "colab": {
          "base_uri": "https://localhost:8080/"
        },
        "id": "VqmyyQOeOO6L",
        "outputId": "a74f93fe-b01d-47d5-d002-a5b251cdfda7"
      },
      "execution_count": 45,
      "outputs": [
        {
          "output_type": "execute_result",
          "data": {
            "text/plain": [
              "0.9642857142857143"
            ]
          },
          "metadata": {},
          "execution_count": 45
        }
      ]
    },
    {
      "cell_type": "code",
      "source": [
        "#Logistic regression\n",
        "reg = 0.05\n",
        "\n",
        "lr = pyspark.ml.classification.LogisticRegression(regParam = reg)\n",
        "model = lr.fit(train)\n",
        "prediction = model.transform(test)\n",
        "print('Prediction')\n",
        "prediction.show()"
      ],
      "metadata": {
        "colab": {
          "base_uri": "https://localhost:8080/"
        },
        "id": "2-jHiCn2LH6t",
        "outputId": "3351a5b1-05b7-4bd8-dd1c-0a22a45e1032"
      },
      "execution_count": 48,
      "outputs": [
        {
          "output_type": "stream",
          "name": "stdout",
          "text": [
            "Prediction\n",
            "+-----------------+-----+--------------------+--------------------+----------+\n",
            "|         features|label|       rawPrediction|         probability|prediction|\n",
            "+-----------------+-----+--------------------+--------------------+----------+\n",
            "|[4.3,3.0,1.1,0.1]|  0.0|[3.39486301700089...|[0.93066421428220...|       0.0|\n",
            "|[4.4,3.0,1.3,0.2]|  0.0|[3.10457130708884...|[0.90981081703082...|       0.0|\n",
            "|[4.4,3.2,1.3,0.2]|  0.0|[3.36041681207839...|[0.94139846150402...|       0.0|\n",
            "|[4.6,3.2,1.4,0.2]|  0.0|[3.15765758574732...|[0.92558738556651...|       0.0|\n",
            "|[4.6,3.4,1.4,0.3]|  0.0|[3.29971961828427...|[0.94772933535664...|       0.0|\n",
            "|[4.8,3.0,1.4,0.3]|  0.0|[2.63535513150339...|[0.85324953337981...|       0.0|\n",
            "|[4.8,3.4,1.6,0.2]|  0.0|[3.16065811487652...|[0.93592668429120...|       0.0|\n",
            "|[4.9,2.4,3.3,1.0]|  1.0|[0.04336832990942...|[0.21489294867091...|       1.0|\n",
            "|[4.9,3.0,1.4,0.2]|  0.0|[2.67280186555509...|[0.85113808551306...|       0.0|\n",
            "|[5.0,2.0,3.5,1.0]|  1.0|[-0.6448309175291...|[0.08206593015776...|       1.0|\n",
            "|[5.0,3.3,1.4,0.2]|  0.0|[2.98023338463851...|[0.91187786474208...|       0.0|\n",
            "|[5.0,3.4,1.6,0.4]|  0.0|[2.78041769316954...|[0.90850667219361...|       0.0|\n",
            "|[5.1,3.3,1.7,0.5]|  0.0|[2.41228898029199...|[0.86075689257853...|       0.0|\n",
            "|[5.1,3.4,1.5,0.2]|  0.0|[2.98173364920311...|[0.91810967589873...|       0.0|\n",
            "|[5.1,3.7,1.5,0.4]|  0.0|[3.13793496178224...|[0.94947371466263...|       0.0|\n",
            "|[5.1,3.8,1.9,0.4]|  0.0|[3.06551471615990...|[0.95111398099063...|       0.0|\n",
            "|[5.2,4.1,1.5,0.1]|  0.0|[3.91463965071822...|[0.98242887713177...|       0.0|\n",
            "|[5.3,3.7,1.5,0.2]|  0.0|[3.21282842988564...|[0.94804782856757...|       0.0|\n",
            "|[5.4,3.4,1.7,0.2]|  0.0|[2.65255193494187...|[0.88165653536957...|       0.0|\n",
            "|[5.6,2.5,3.9,1.1]|  1.0|[-0.7773640560303...|[0.09698124353886...|       1.0|\n",
            "+-----------------+-----+--------------------+--------------------+----------+\n",
            "only showing top 20 rows\n",
            "\n"
          ]
        }
      ]
    },
    {
      "cell_type": "code",
      "source": [
        "accuracy_score(np.array(prediction.select('label').collect()).reshape(1,-1).flatten(), np.array(prediction.select('prediction').collect()).reshape(1,-1).flatten())"
      ],
      "metadata": {
        "colab": {
          "base_uri": "https://localhost:8080/"
        },
        "id": "KgJvJglDRKrp",
        "outputId": "dcb9d7ce-872b-4e02-d26a-56e79f9aafa7"
      },
      "execution_count": 81,
      "outputs": [
        {
          "output_type": "execute_result",
          "data": {
            "text/plain": [
              "0.9107142857142857"
            ]
          },
          "metadata": {},
          "execution_count": 81
        }
      ]
    }
  ]
}